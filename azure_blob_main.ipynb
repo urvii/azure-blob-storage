{
 "cells": [
  {
   "cell_type": "code",
   "execution_count": 1,
   "id": "1054b4ba",
   "metadata": {},
   "outputs": [
    {
     "name": "stdout",
     "output_type": "stream",
     "text": [
      "Requirement already satisfied: azure-storage-blob in c:\\users\\urshah\\anaconda3\\lib\\site-packages (12.11.0)\n",
      "Requirement already satisfied: msrest>=0.6.21 in c:\\users\\urshah\\anaconda3\\lib\\site-packages (from azure-storage-blob) (0.6.21)\n",
      "Requirement already satisfied: azure-core<2.0.0,>=1.15.0 in c:\\users\\urshah\\anaconda3\\lib\\site-packages (from azure-storage-blob) (1.20.1)\n",
      "Requirement already satisfied: cryptography>=2.1.4 in c:\\users\\urshah\\anaconda3\\lib\\site-packages (from azure-storage-blob) (3.4.7)\n",
      "Requirement already satisfied: requests>=2.18.4 in c:\\users\\urshah\\anaconda3\\lib\\site-packages (from azure-core<2.0.0,>=1.15.0->azure-storage-blob) (2.25.1)\n",
      "Requirement already satisfied: six>=1.11.0 in c:\\users\\urshah\\anaconda3\\lib\\site-packages (from azure-core<2.0.0,>=1.15.0->azure-storage-blob) (1.15.0)\n",
      "Requirement already satisfied: cffi>=1.12 in c:\\users\\urshah\\anaconda3\\lib\\site-packages (from cryptography>=2.1.4->azure-storage-blob) (1.14.5)\n",
      "Requirement already satisfied: pycparser in c:\\users\\urshah\\anaconda3\\lib\\site-packages (from cffi>=1.12->cryptography>=2.1.4->azure-storage-blob) (2.20)\n",
      "Requirement already satisfied: certifi>=2017.4.17 in c:\\users\\urshah\\anaconda3\\lib\\site-packages (from msrest>=0.6.21->azure-storage-blob) (2020.12.5)\n",
      "Requirement already satisfied: requests-oauthlib>=0.5.0 in c:\\users\\urshah\\anaconda3\\lib\\site-packages (from msrest>=0.6.21->azure-storage-blob) (1.3.0)\n",
      "Requirement already satisfied: isodate>=0.6.0 in c:\\users\\urshah\\anaconda3\\lib\\site-packages (from msrest>=0.6.21->azure-storage-blob) (0.6.0)\n",
      "Requirement already satisfied: chardet<5,>=3.0.2 in c:\\users\\urshah\\anaconda3\\lib\\site-packages (from requests>=2.18.4->azure-core<2.0.0,>=1.15.0->azure-storage-blob) (4.0.0)\n",
      "Requirement already satisfied: idna<3,>=2.5 in c:\\users\\urshah\\anaconda3\\lib\\site-packages (from requests>=2.18.4->azure-core<2.0.0,>=1.15.0->azure-storage-blob) (2.10)\n",
      "Requirement already satisfied: urllib3<1.27,>=1.21.1 in c:\\users\\urshah\\anaconda3\\lib\\site-packages (from requests>=2.18.4->azure-core<2.0.0,>=1.15.0->azure-storage-blob) (1.26.4)\n",
      "Requirement already satisfied: oauthlib>=3.0.0 in c:\\users\\urshah\\anaconda3\\lib\\site-packages (from requests-oauthlib>=0.5.0->msrest>=0.6.21->azure-storage-blob) (3.1.1)\n"
     ]
    }
   ],
   "source": [
    "!pip install azure-storage-blob"
   ]
  },
  {
   "cell_type": "code",
   "execution_count": 2,
   "id": "408927d7",
   "metadata": {},
   "outputs": [],
   "source": [
    "from azure.storage.blob import BlobServiceClient, BlobClient, ContainerClient"
   ]
  },
  {
   "cell_type": "code",
   "execution_count": null,
   "id": "df2229e8",
   "metadata": {},
   "outputs": [],
   "source": [
    "# Your connection string will be in this format you can get it from azure\n",
    "# DefaultEndpointsProtocol=https;\n",
    "# AccountName=NameOfAccount;\n",
    "# AccountKey=AccountKey;\n",
    "# EndpointSuffix=core.windows.net\"\n"
   ]
  },
  {
   "cell_type": "code",
   "execution_count": 3,
   "id": "7f598de6",
   "metadata": {},
   "outputs": [],
   "source": [
    "connect_str =\"DefaultEndpointsProtocol=https;AccountName=NameOfAccount;AccountKey=AccountKey;EndpointSuffix=core.windows.net\""
   ]
  },
  {
   "cell_type": "code",
   "execution_count": 4,
   "id": "44033a6c",
   "metadata": {},
   "outputs": [
    {
     "name": "stdout",
     "output_type": "stream",
     "text": [
      "Azure Blob Storage v12.11.0 - Python quickstart sample\n"
     ]
    }
   ],
   "source": [
    "import os, uuid\n",
    "from azure.storage.blob import BlobServiceClient, BlobClient, ContainerClient, __version__\n",
    "\n",
    "try:\n",
    "    print(\"Azure Blob Storage v\" + __version__ + \" - Python quickstart sample\")\n",
    "\n",
    "except Exception as ex:\n",
    "    print('Exception:')\n",
    "    print(ex)"
   ]
  },
  {
   "cell_type": "code",
   "execution_count": 5,
   "id": "c88a0c19",
   "metadata": {},
   "outputs": [],
   "source": [
    "container_name = \"outputfiles\""
   ]
  },
  {
   "cell_type": "code",
   "execution_count": 17,
   "id": "31d77f4b",
   "metadata": {},
   "outputs": [],
   "source": [
    "blob_service_client = BlobServiceClient.from_connection_string(connect_str)"
   ]
  },
  {
   "cell_type": "code",
   "execution_count": 18,
   "id": "3d23e4d5",
   "metadata": {},
   "outputs": [
    {
     "name": "stdout",
     "output_type": "stream",
     "text": [
      "\n",
      "Uploading to Azure Storage as blob:\n",
      "\t97e3ac49-187a-4ee6-9f93-e8bdb739b425.txt\n"
     ]
    }
   ],
   "source": [
    "blob_client = blob_service_client.get_blob_client(container=container_name, blob=local_file_name)\n",
    "\n",
    "print(\"\\nUploading to Azure Storage as blob:\\n\\t\" + local_file_name)\n",
    "\n",
    "# Upload the created file\n",
    "with open(upload_file_path, \"rb\") as data:\n",
    "    blob_client.upload_blob(data)"
   ]
  },
  {
   "cell_type": "code",
   "execution_count": null,
   "id": "e3b01344",
   "metadata": {},
   "outputs": [],
   "source": [
    "container_client = blob_service_client.get_container_client(container_name)"
   ]
  },
  {
   "cell_type": "markdown",
   "id": "cbb173cb",
   "metadata": {},
   "source": [
    "<h4> Creating functions that can be used directly </h4>"
   ]
  },
  {
   "cell_type": "code",
   "execution_count": 4,
   "id": "835da6a6",
   "metadata": {},
   "outputs": [],
   "source": [
    "def upload_file(container_name, source_file_name, dest_file_name):\n",
    "    blob_service_client = BlobServiceClient.from_connection_string(conn_string)\n",
    "    \n",
    "    # Instantiate a new ContainerClient\n",
    "    container_client = blob_service_client.get_container_client(container_name)\n",
    "    \n",
    "    try:\n",
    "        container_client.create_container()\n",
    "\n",
    "    except:\n",
    "        print(\"Container already exists. Uploading to existing container.\")\n",
    "    \n",
    "    finally:\n",
    "        blob_client = container_client.get_blob_client(dest_file_name)\n",
    "        \n",
    "        with open(source_file_name, \"rb\") as data:\n",
    "            blob_client.upload_blob(data, blob_type=\"BlockBlob\")\n"
   ]
  },
  {
   "cell_type": "code",
   "execution_count": 5,
   "id": "452ad963",
   "metadata": {},
   "outputs": [],
   "source": [
    "def get_file(container_name, dest_file_path, azure_file_name):\n",
    "    blob_service_client = BlobServiceClient.from_connection_string(conn_string)\n",
    "    \n",
    "    # Instantiate a new ContainerClient\n",
    "    container_client = blob_service_client.get_container_client(container_name)\n",
    "    \n",
    "    blob_client = container_client.get_blob_client(azure_file_name)\n",
    "    \n",
    "    with open(dest_file_path, \"wb\") as data:\n",
    "        download_stream = blob_client.download_blob()\n",
    "        data.write(download_stream.readall())\n",
    "\n"
   ]
  },
  {
   "cell_type": "code",
   "execution_count": 6,
   "id": "f2601518",
   "metadata": {},
   "outputs": [],
   "source": [
    "def upload_db(container_name, source_file_name, dest_file_name):\n",
    "    blob_service_client = BlobServiceClient.from_connection_string(conn_string)\n",
    "    \n",
    "    # Instantiate a new ContainerClient\n",
    "    container_client = blob_service_client.get_container_client(container_name)\n",
    "    \n",
    "    try:\n",
    "        container_client.create_container()\n",
    "\n",
    "    except:\n",
    "        print(\"Container already exists. Uploading to existing container.\")\n",
    "    \n",
    "    finally:\n",
    "        blob_client = container_client.get_blob_client(dest_file_name)\n",
    "        \n",
    "        with open(source_file_name, \"rb\") as data:\n",
    "            blob_client.upload_blob(data, blob_type=\"BlockBlob\",overwrite=True)"
   ]
  }
 ],
 "metadata": {
  "kernelspec": {
   "display_name": "Python 3",
   "language": "python",
   "name": "python3"
  },
  "language_info": {
   "codemirror_mode": {
    "name": "ipython",
    "version": 3
   },
   "file_extension": ".py",
   "mimetype": "text/x-python",
   "name": "python",
   "nbconvert_exporter": "python",
   "pygments_lexer": "ipython3",
   "version": "3.8.8"
  }
 },
 "nbformat": 4,
 "nbformat_minor": 5
}
